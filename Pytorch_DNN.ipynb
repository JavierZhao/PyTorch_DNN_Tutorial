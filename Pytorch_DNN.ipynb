{
 "cells": [
  {
   "cell_type": "code",
   "execution_count": 1,
   "metadata": {
    "execution": {
     "iopub.execute_input": "2025-02-04T19:52:25.424682Z",
     "iopub.status.busy": "2025-02-04T19:52:25.424468Z",
     "iopub.status.idle": "2025-02-04T19:52:27.595223Z",
     "shell.execute_reply": "2025-02-04T19:52:27.594679Z",
     "shell.execute_reply.started": "2025-02-04T19:52:25.424665Z"
    }
   },
   "outputs": [],
   "source": [
    "import torch as torch\n",
    "from sklearn.model_selection import train_test_split\n",
    "import os\n",
    "import h5py\n",
    "import pandas as pd\n",
    "import numpy as np\n",
    "from torch.utils.data import Dataset, DataLoader\n",
    "from torch.autograd import Variable\n",
    "import matplotlib.pyplot as plt\n",
    "import tqdm as tqdm"
   ]
  },
  {
   "cell_type": "markdown",
   "metadata": {},
   "source": [
    "## Download the dataset"
   ]
  },
  {
   "cell_type": "code",
   "execution_count": 3,
   "metadata": {
    "execution": {
     "iopub.execute_input": "2025-02-04T19:58:48.951106Z",
     "iopub.status.busy": "2025-02-04T19:58:48.950820Z",
     "iopub.status.idle": "2025-02-04T19:58:53.521346Z",
     "shell.execute_reply": "2025-02-04T19:58:53.520674Z",
     "shell.execute_reply.started": "2025-02-04T19:58:48.951088Z"
    }
   },
   "outputs": [
    {
     "name": "stdout",
     "output_type": "stream",
     "text": [
      "Collecting gdown\n",
      "  Obtaining dependency information for gdown from https://files.pythonhosted.org/packages/54/70/e07c381e6488a77094f04c85c9caf1c8008cdc30778f7019bc52e5285ef0/gdown-5.2.0-py3-none-any.whl.metadata\n",
      "  Downloading gdown-5.2.0-py3-none-any.whl.metadata (5.8 kB)\n",
      "Requirement already satisfied: beautifulsoup4 in /opt/conda/lib/python3.11/site-packages (from gdown) (4.12.2)\n",
      "Requirement already satisfied: filelock in /opt/conda/lib/python3.11/site-packages (from gdown) (3.12.4)\n",
      "Requirement already satisfied: requests[socks] in /opt/conda/lib/python3.11/site-packages (from gdown) (2.31.0)\n",
      "Requirement already satisfied: tqdm in /opt/conda/lib/python3.11/site-packages (from gdown) (4.66.1)\n",
      "Requirement already satisfied: soupsieve>1.2 in /opt/conda/lib/python3.11/site-packages (from beautifulsoup4->gdown) (2.5)\n",
      "Requirement already satisfied: charset-normalizer<4,>=2 in /opt/conda/lib/python3.11/site-packages (from requests[socks]->gdown) (3.2.0)\n",
      "Requirement already satisfied: idna<4,>=2.5 in /opt/conda/lib/python3.11/site-packages (from requests[socks]->gdown) (3.4)\n",
      "Requirement already satisfied: urllib3<3,>=1.21.1 in /opt/conda/lib/python3.11/site-packages (from requests[socks]->gdown) (2.0.4)\n",
      "Requirement already satisfied: certifi>=2017.4.17 in /opt/conda/lib/python3.11/site-packages (from requests[socks]->gdown) (2024.8.30)\n",
      "Requirement already satisfied: PySocks!=1.5.7,>=1.5.6 in /opt/conda/lib/python3.11/site-packages (from requests[socks]->gdown) (1.7.1)\n",
      "Downloading gdown-5.2.0-py3-none-any.whl (18 kB)\n",
      "Installing collected packages: gdown\n",
      "Successfully installed gdown-5.2.0\n"
     ]
    }
   ],
   "source": [
    "!pip install gdown"
   ]
  },
  {
   "cell_type": "code",
   "execution_count": 4,
   "metadata": {
    "execution": {
     "iopub.execute_input": "2025-02-04T19:59:30.746965Z",
     "iopub.status.busy": "2025-02-04T19:59:30.746602Z",
     "iopub.status.idle": "2025-02-04T19:59:55.454842Z",
     "shell.execute_reply": "2025-02-04T19:59:55.454400Z",
     "shell.execute_reply.started": "2025-02-04T19:59:30.746944Z"
    }
   },
   "outputs": [
    {
     "name": "stderr",
     "output_type": "stream",
     "text": [
      "Downloading...\n",
      "From (original): https://drive.google.com/uc?export=download&id=130g_RdSuPxhfbxwf61JhT186xcU1uHw3\n",
      "From (redirected): https://drive.google.com/uc?export=download&id=130g_RdSuPxhfbxwf61JhT186xcU1uHw3&confirm=t&uuid=5126c8e4-9580-4c42-9ff4-7e330f68d465\n",
      "To: /j-jepa-vol/pnnl/processed-pythia82-lhc13-all-pt1-50k-r1_h022_e0175_t220_nonu_withPars_truth_0.z\n",
      "100%|██████████████████████████████████████████████████████████████████████████████████████████████████████████████████████████████████| 1.38G/1.38G [00:19<00:00, 69.9MB/s]\n"
     ]
    },
    {
     "data": {
      "text/plain": [
       "'processed-pythia82-lhc13-all-pt1-50k-r1_h022_e0175_t220_nonu_withPars_truth_0.z'"
      ]
     },
     "execution_count": 4,
     "metadata": {},
     "output_type": "execute_result"
    }
   ],
   "source": [
    "import gdown\n",
    "\n",
    "file_id = \"130g_RdSuPxhfbxwf61JhT186xcU1uHw3\"\n",
    "output_filename = \"processed-pythia82-lhc13-all-pt1-50k-r1_h022_e0175_t220_nonu_withPars_truth_0.z\"  # Change this to the desired filename\n",
    "\n",
    "gdown.download(f\"https://drive.google.com/uc?export=download&id={file_id}\", output_filename, quiet=False)"
   ]
  },
  {
   "cell_type": "markdown",
   "metadata": {},
   "source": [
    "## Dataset exploration"
   ]
  },
  {
   "cell_type": "code",
   "execution_count": 5,
   "metadata": {
    "execution": {
     "iopub.execute_input": "2025-02-04T20:00:01.422134Z",
     "iopub.status.busy": "2025-02-04T20:00:01.421912Z",
     "iopub.status.idle": "2025-02-04T20:00:05.876949Z",
     "shell.execute_reply": "2025-02-04T20:00:05.876428Z",
     "shell.execute_reply.started": "2025-02-04T20:00:01.422115Z"
    }
   },
   "outputs": [],
   "source": [
    "f = h5py.File('processed-pythia82-lhc13-all-pt1-50k-r1_h022_e0175_t220_nonu_withPars_truth_0.z', 'r')\n",
    "treeArray = f['t_allpar_new'][()]\n",
    "\n",
    "features = ['j_zlogz', 'j_c1_b0_mmdt','j_c1_b1_mmdt', 'j_c1_b2_mmdt' , 'j_c2_b1_mmdt',\n",
    "            'j_c2_b2_mmdt', 'j_d2_b1_mmdt', 'j_d2_b2_mmdt', 'j_d2_a1_b1_mmdt', 'j_d2_a1_b2_mmdt', 'j_m2_b1_mmdt', 'j_m2_b2_mmdt', 'j_n2_b1_mmdt', \n",
    "            'j_n2_b2_mmdt', 'j_mass_mmdt', 'j_multiplicity']\n",
    "labels = ['j_g', 'j_q', 'j_w', 'j_z', 'j_t']\n",
    "features_labels_df = pd.DataFrame(treeArray, columns = features + labels)\n",
    "features_labels_df = features_labels_df.drop_duplicates()\n",
    "features_val = features_labels_df[features].values\n",
    "\n",
    "labels_val = features_labels_df[labels].values\n",
    "\n",
    "X_train, X_test, y_train, y_test = train_test_split(features_val,labels_val,test_size = 0.2, random_state = 42)\n"
   ]
  },
  {
   "cell_type": "code",
   "execution_count": 6,
   "metadata": {
    "execution": {
     "iopub.execute_input": "2025-02-04T20:00:08.170756Z",
     "iopub.status.busy": "2025-02-04T20:00:08.170448Z",
     "iopub.status.idle": "2025-02-04T20:00:08.185059Z",
     "shell.execute_reply": "2025-02-04T20:00:08.184649Z",
     "shell.execute_reply.started": "2025-02-04T20:00:08.170740Z"
    }
   },
   "outputs": [
    {
     "data": {
      "text/html": [
       "<div>\n",
       "<style scoped>\n",
       "    .dataframe tbody tr th:only-of-type {\n",
       "        vertical-align: middle;\n",
       "    }\n",
       "\n",
       "    .dataframe tbody tr th {\n",
       "        vertical-align: top;\n",
       "    }\n",
       "\n",
       "    .dataframe thead th {\n",
       "        text-align: right;\n",
       "    }\n",
       "</style>\n",
       "<table border=\"1\" class=\"dataframe\">\n",
       "  <thead>\n",
       "    <tr style=\"text-align: right;\">\n",
       "      <th></th>\n",
       "      <th>j_zlogz</th>\n",
       "      <th>j_c1_b0_mmdt</th>\n",
       "      <th>j_c1_b1_mmdt</th>\n",
       "      <th>j_c1_b2_mmdt</th>\n",
       "      <th>j_c2_b1_mmdt</th>\n",
       "      <th>j_c2_b2_mmdt</th>\n",
       "      <th>j_d2_b1_mmdt</th>\n",
       "      <th>j_d2_b2_mmdt</th>\n",
       "      <th>j_d2_a1_b1_mmdt</th>\n",
       "      <th>j_d2_a1_b2_mmdt</th>\n",
       "      <th>j_m2_b1_mmdt</th>\n",
       "      <th>j_m2_b2_mmdt</th>\n",
       "      <th>j_n2_b1_mmdt</th>\n",
       "      <th>j_n2_b2_mmdt</th>\n",
       "      <th>j_mass_mmdt</th>\n",
       "      <th>j_multiplicity</th>\n",
       "    </tr>\n",
       "  </thead>\n",
       "  <tbody>\n",
       "    <tr>\n",
       "      <th>0</th>\n",
       "      <td>-3.027986</td>\n",
       "      <td>0.465939</td>\n",
       "      <td>0.048607</td>\n",
       "      <td>0.008048</td>\n",
       "      <td>0.034009</td>\n",
       "      <td>0.002053</td>\n",
       "      <td>0.699683</td>\n",
       "      <td>0.255108</td>\n",
       "      <td>0.699683</td>\n",
       "      <td>0.111289</td>\n",
       "      <td>0.057624</td>\n",
       "      <td>0.014688</td>\n",
       "      <td>0.180873</td>\n",
       "      <td>0.047520</td>\n",
       "      <td>90.517586</td>\n",
       "      <td>38.0</td>\n",
       "    </tr>\n",
       "    <tr>\n",
       "      <th>1</th>\n",
       "      <td>-3.149485</td>\n",
       "      <td>0.458240</td>\n",
       "      <td>0.052290</td>\n",
       "      <td>0.013172</td>\n",
       "      <td>0.088799</td>\n",
       "      <td>0.013388</td>\n",
       "      <td>1.698195</td>\n",
       "      <td>1.016423</td>\n",
       "      <td>1.698195</td>\n",
       "      <td>0.160612</td>\n",
       "      <td>0.070419</td>\n",
       "      <td>0.018904</td>\n",
       "      <td>0.279586</td>\n",
       "      <td>0.097993</td>\n",
       "      <td>103.342491</td>\n",
       "      <td>69.0</td>\n",
       "    </tr>\n",
       "    <tr>\n",
       "      <th>2</th>\n",
       "      <td>-2.922649</td>\n",
       "      <td>0.455969</td>\n",
       "      <td>0.040164</td>\n",
       "      <td>0.005786</td>\n",
       "      <td>0.030218</td>\n",
       "      <td>0.001580</td>\n",
       "      <td>0.752356</td>\n",
       "      <td>0.272986</td>\n",
       "      <td>0.752356</td>\n",
       "      <td>0.110745</td>\n",
       "      <td>0.061472</td>\n",
       "      <td>0.019364</td>\n",
       "      <td>0.184330</td>\n",
       "      <td>0.050588</td>\n",
       "      <td>79.648407</td>\n",
       "      <td>42.0</td>\n",
       "    </tr>\n",
       "    <tr>\n",
       "      <th>3</th>\n",
       "      <td>-2.256488</td>\n",
       "      <td>0.400185</td>\n",
       "      <td>0.009152</td>\n",
       "      <td>0.000282</td>\n",
       "      <td>0.017395</td>\n",
       "      <td>0.000667</td>\n",
       "      <td>1.900810</td>\n",
       "      <td>2.365018</td>\n",
       "      <td>1.900810</td>\n",
       "      <td>0.307912</td>\n",
       "      <td>0.127235</td>\n",
       "      <td>0.071253</td>\n",
       "      <td>0.410510</td>\n",
       "      <td>0.292179</td>\n",
       "      <td>10.513571</td>\n",
       "      <td>33.0</td>\n",
       "    </tr>\n",
       "    <tr>\n",
       "      <th>4</th>\n",
       "      <td>-2.914227</td>\n",
       "      <td>0.435764</td>\n",
       "      <td>0.058405</td>\n",
       "      <td>0.014595</td>\n",
       "      <td>0.126756</td>\n",
       "      <td>0.037123</td>\n",
       "      <td>2.170306</td>\n",
       "      <td>2.543523</td>\n",
       "      <td>2.170306</td>\n",
       "      <td>0.245217</td>\n",
       "      <td>0.091513</td>\n",
       "      <td>0.042131</td>\n",
       "      <td>0.377326</td>\n",
       "      <td>0.235774</td>\n",
       "      <td>118.270248</td>\n",
       "      <td>65.0</td>\n",
       "    </tr>\n",
       "    <tr>\n",
       "      <th>...</th>\n",
       "      <td>...</td>\n",
       "      <td>...</td>\n",
       "      <td>...</td>\n",
       "      <td>...</td>\n",
       "      <td>...</td>\n",
       "      <td>...</td>\n",
       "      <td>...</td>\n",
       "      <td>...</td>\n",
       "      <td>...</td>\n",
       "      <td>...</td>\n",
       "      <td>...</td>\n",
       "      <td>...</td>\n",
       "      <td>...</td>\n",
       "      <td>...</td>\n",
       "      <td>...</td>\n",
       "      <td>...</td>\n",
       "    </tr>\n",
       "    <tr>\n",
       "      <th>1535393</th>\n",
       "      <td>-1.627757</td>\n",
       "      <td>0.352491</td>\n",
       "      <td>0.001939</td>\n",
       "      <td>0.000012</td>\n",
       "      <td>0.002581</td>\n",
       "      <td>0.000015</td>\n",
       "      <td>1.330612</td>\n",
       "      <td>1.220244</td>\n",
       "      <td>1.330612</td>\n",
       "      <td>0.234310</td>\n",
       "      <td>0.108462</td>\n",
       "      <td>0.068347</td>\n",
       "      <td>0.335752</td>\n",
       "      <td>0.231590</td>\n",
       "      <td>4.752701</td>\n",
       "      <td>12.0</td>\n",
       "    </tr>\n",
       "    <tr>\n",
       "      <th>1581989</th>\n",
       "      <td>-1.845163</td>\n",
       "      <td>0.342177</td>\n",
       "      <td>0.002502</td>\n",
       "      <td>0.000023</td>\n",
       "      <td>0.003914</td>\n",
       "      <td>0.000034</td>\n",
       "      <td>1.564704</td>\n",
       "      <td>1.492089</td>\n",
       "      <td>1.564704</td>\n",
       "      <td>0.224847</td>\n",
       "      <td>0.085621</td>\n",
       "      <td>0.042902</td>\n",
       "      <td>0.327416</td>\n",
       "      <td>0.204895</td>\n",
       "      <td>4.538349</td>\n",
       "      <td>21.0</td>\n",
       "    </tr>\n",
       "    <tr>\n",
       "      <th>1666527</th>\n",
       "      <td>-0.952561</td>\n",
       "      <td>0.204414</td>\n",
       "      <td>0.002135</td>\n",
       "      <td>0.000024</td>\n",
       "      <td>0.004953</td>\n",
       "      <td>0.000059</td>\n",
       "      <td>2.320268</td>\n",
       "      <td>2.479696</td>\n",
       "      <td>2.320268</td>\n",
       "      <td>0.193878</td>\n",
       "      <td>0.064376</td>\n",
       "      <td>0.047116</td>\n",
       "      <td>0.341516</td>\n",
       "      <td>0.267662</td>\n",
       "      <td>6.395170</td>\n",
       "      <td>9.0</td>\n",
       "    </tr>\n",
       "    <tr>\n",
       "      <th>1675112</th>\n",
       "      <td>-1.366061</td>\n",
       "      <td>0.296614</td>\n",
       "      <td>0.002869</td>\n",
       "      <td>0.000030</td>\n",
       "      <td>0.002359</td>\n",
       "      <td>0.000030</td>\n",
       "      <td>0.822408</td>\n",
       "      <td>1.005530</td>\n",
       "      <td>0.822408</td>\n",
       "      <td>0.116742</td>\n",
       "      <td>0.044158</td>\n",
       "      <td>0.027577</td>\n",
       "      <td>0.158895</td>\n",
       "      <td>0.099960</td>\n",
       "      <td>5.156221</td>\n",
       "      <td>16.0</td>\n",
       "    </tr>\n",
       "    <tr>\n",
       "      <th>1743505</th>\n",
       "      <td>-1.985564</td>\n",
       "      <td>0.411487</td>\n",
       "      <td>0.003421</td>\n",
       "      <td>0.000037</td>\n",
       "      <td>0.004716</td>\n",
       "      <td>0.000049</td>\n",
       "      <td>1.378446</td>\n",
       "      <td>1.318182</td>\n",
       "      <td>1.378446</td>\n",
       "      <td>0.247093</td>\n",
       "      <td>0.112563</td>\n",
       "      <td>0.063533</td>\n",
       "      <td>0.328882</td>\n",
       "      <td>0.193738</td>\n",
       "      <td>6.599149</td>\n",
       "      <td>15.0</td>\n",
       "    </tr>\n",
       "  </tbody>\n",
       "</table>\n",
       "<p>98710 rows × 16 columns</p>\n",
       "</div>"
      ],
      "text/plain": [
       "          j_zlogz  j_c1_b0_mmdt  j_c1_b1_mmdt  j_c1_b2_mmdt  j_c2_b1_mmdt  \\\n",
       "0       -3.027986      0.465939      0.048607      0.008048      0.034009   \n",
       "1       -3.149485      0.458240      0.052290      0.013172      0.088799   \n",
       "2       -2.922649      0.455969      0.040164      0.005786      0.030218   \n",
       "3       -2.256488      0.400185      0.009152      0.000282      0.017395   \n",
       "4       -2.914227      0.435764      0.058405      0.014595      0.126756   \n",
       "...           ...           ...           ...           ...           ...   \n",
       "1535393 -1.627757      0.352491      0.001939      0.000012      0.002581   \n",
       "1581989 -1.845163      0.342177      0.002502      0.000023      0.003914   \n",
       "1666527 -0.952561      0.204414      0.002135      0.000024      0.004953   \n",
       "1675112 -1.366061      0.296614      0.002869      0.000030      0.002359   \n",
       "1743505 -1.985564      0.411487      0.003421      0.000037      0.004716   \n",
       "\n",
       "         j_c2_b2_mmdt  j_d2_b1_mmdt  j_d2_b2_mmdt  j_d2_a1_b1_mmdt  \\\n",
       "0            0.002053      0.699683      0.255108         0.699683   \n",
       "1            0.013388      1.698195      1.016423         1.698195   \n",
       "2            0.001580      0.752356      0.272986         0.752356   \n",
       "3            0.000667      1.900810      2.365018         1.900810   \n",
       "4            0.037123      2.170306      2.543523         2.170306   \n",
       "...               ...           ...           ...              ...   \n",
       "1535393      0.000015      1.330612      1.220244         1.330612   \n",
       "1581989      0.000034      1.564704      1.492089         1.564704   \n",
       "1666527      0.000059      2.320268      2.479696         2.320268   \n",
       "1675112      0.000030      0.822408      1.005530         0.822408   \n",
       "1743505      0.000049      1.378446      1.318182         1.378446   \n",
       "\n",
       "         j_d2_a1_b2_mmdt  j_m2_b1_mmdt  j_m2_b2_mmdt  j_n2_b1_mmdt  \\\n",
       "0               0.111289      0.057624      0.014688      0.180873   \n",
       "1               0.160612      0.070419      0.018904      0.279586   \n",
       "2               0.110745      0.061472      0.019364      0.184330   \n",
       "3               0.307912      0.127235      0.071253      0.410510   \n",
       "4               0.245217      0.091513      0.042131      0.377326   \n",
       "...                  ...           ...           ...           ...   \n",
       "1535393         0.234310      0.108462      0.068347      0.335752   \n",
       "1581989         0.224847      0.085621      0.042902      0.327416   \n",
       "1666527         0.193878      0.064376      0.047116      0.341516   \n",
       "1675112         0.116742      0.044158      0.027577      0.158895   \n",
       "1743505         0.247093      0.112563      0.063533      0.328882   \n",
       "\n",
       "         j_n2_b2_mmdt  j_mass_mmdt  j_multiplicity  \n",
       "0            0.047520    90.517586            38.0  \n",
       "1            0.097993   103.342491            69.0  \n",
       "2            0.050588    79.648407            42.0  \n",
       "3            0.292179    10.513571            33.0  \n",
       "4            0.235774   118.270248            65.0  \n",
       "...               ...          ...             ...  \n",
       "1535393      0.231590     4.752701            12.0  \n",
       "1581989      0.204895     4.538349            21.0  \n",
       "1666527      0.267662     6.395170             9.0  \n",
       "1675112      0.099960     5.156221            16.0  \n",
       "1743505      0.193738     6.599149            15.0  \n",
       "\n",
       "[98710 rows x 16 columns]"
      ]
     },
     "execution_count": 6,
     "metadata": {},
     "output_type": "execute_result"
    }
   ],
   "source": [
    "features_labels_df[features]"
   ]
  },
  {
   "cell_type": "code",
   "execution_count": 7,
   "metadata": {
    "execution": {
     "iopub.execute_input": "2025-02-04T20:00:11.620748Z",
     "iopub.status.busy": "2025-02-04T20:00:11.620419Z",
     "iopub.status.idle": "2025-02-04T20:00:11.624405Z",
     "shell.execute_reply": "2025-02-04T20:00:11.623970Z",
     "shell.execute_reply.started": "2025-02-04T20:00:11.620729Z"
    }
   },
   "outputs": [
    {
     "data": {
      "text/plain": [
       "(78968, 16)"
      ]
     },
     "execution_count": 7,
     "metadata": {},
     "output_type": "execute_result"
    }
   ],
   "source": [
    "X_train.shape"
   ]
  },
  {
   "cell_type": "markdown",
   "metadata": {},
   "source": [
    "## Initialize DNN model"
   ]
  },
  {
   "cell_type": "code",
   "execution_count": 13,
   "metadata": {
    "execution": {
     "iopub.execute_input": "2025-02-04T20:01:06.820624Z",
     "iopub.status.busy": "2025-02-04T20:01:06.820437Z",
     "iopub.status.idle": "2025-02-04T20:01:07.686960Z",
     "shell.execute_reply": "2025-02-04T20:01:07.686412Z",
     "shell.execute_reply.started": "2025-02-04T20:01:06.820611Z"
    }
   },
   "outputs": [],
   "source": [
    "model = torch.nn.Sequential(\n",
    "    torch.nn.Linear(16,64),\n",
    "    torch.nn.ReLU(),\n",
    "    torch.nn.Linear(64,32),\n",
    "    torch.nn.ReLU(),\n",
    "    torch.nn.Linear(32,16),\n",
    "    torch.nn.ReLU(),\n",
    "    torch.nn.Linear(16,5),\n",
    "    torch.nn.Softmax()).to('cuda')"
   ]
  },
  {
   "cell_type": "code",
   "execution_count": 14,
   "metadata": {
    "execution": {
     "iopub.execute_input": "2025-02-04T20:01:08.524213Z",
     "iopub.status.busy": "2025-02-04T20:01:08.523929Z",
     "iopub.status.idle": "2025-02-04T20:01:08.527723Z",
     "shell.execute_reply": "2025-02-04T20:01:08.527182Z",
     "shell.execute_reply.started": "2025-02-04T20:01:08.524196Z"
    }
   },
   "outputs": [
    {
     "data": {
      "text/plain": [
       "Sequential(\n",
       "  (0): Linear(in_features=16, out_features=64, bias=True)\n",
       "  (1): ReLU()\n",
       "  (2): Linear(in_features=64, out_features=32, bias=True)\n",
       "  (3): ReLU()\n",
       "  (4): Linear(in_features=32, out_features=16, bias=True)\n",
       "  (5): ReLU()\n",
       "  (6): Linear(in_features=16, out_features=5, bias=True)\n",
       "  (7): Softmax(dim=None)\n",
       ")"
      ]
     },
     "execution_count": 14,
     "metadata": {},
     "output_type": "execute_result"
    }
   ],
   "source": [
    "model"
   ]
  },
  {
   "cell_type": "markdown",
   "metadata": {},
   "source": [
    "## Configure dataloaders and loss function"
   ]
  },
  {
   "cell_type": "code",
   "execution_count": 19,
   "metadata": {
    "execution": {
     "iopub.execute_input": "2025-02-04T20:02:10.400953Z",
     "iopub.status.busy": "2025-02-04T20:02:10.400518Z",
     "iopub.status.idle": "2025-02-04T20:02:10.434747Z",
     "shell.execute_reply": "2025-02-04T20:02:10.434366Z",
     "shell.execute_reply.started": "2025-02-04T20:02:10.400933Z"
    }
   },
   "outputs": [],
   "source": [
    "learning_rate = 1e-4\n",
    "X_train = torch.from_numpy(X_train).to('cuda')\n",
    "y_train = torch.from_numpy(y_train).to('cuda')\n",
    "dataloader = DataLoader(X_train, batch_size=64, shuffle=False, sampler=None,\n",
    "           batch_sampler=None, num_workers=0, collate_fn=None,\n",
    "           pin_memory=False, drop_last=False, timeout=0,\n",
    "           worker_init_fn=None)\n",
    "ydataloader = DataLoader(y_train, batch_size=64, shuffle=False, sampler=None,\n",
    "           batch_sampler=None, num_workers=0, collate_fn=None,\n",
    "           pin_memory=False, drop_last=False, timeout=0,\n",
    "           worker_init_fn=None)"
   ]
  },
  {
   "cell_type": "code",
   "execution_count": 20,
   "metadata": {
    "execution": {
     "iopub.execute_input": "2025-02-04T20:02:12.470433Z",
     "iopub.status.busy": "2025-02-04T20:02:12.469996Z",
     "iopub.status.idle": "2025-02-04T20:02:12.472556Z",
     "shell.execute_reply": "2025-02-04T20:02:12.472205Z",
     "shell.execute_reply.started": "2025-02-04T20:02:12.470417Z"
    }
   },
   "outputs": [],
   "source": [
    "loss_fn = torch.nn.CrossEntropyLoss()"
   ]
  },
  {
   "cell_type": "markdown",
   "metadata": {},
   "source": [
    "## Training and eval loop"
   ]
  },
  {
   "cell_type": "code",
   "execution_count": 25,
   "metadata": {
    "execution": {
     "iopub.execute_input": "2025-02-04T20:03:20.003307Z",
     "iopub.status.busy": "2025-02-04T20:03:20.002905Z",
     "iopub.status.idle": "2025-02-04T20:05:40.120450Z",
     "shell.execute_reply": "2025-02-04T20:05:40.119851Z",
     "shell.execute_reply.started": "2025-02-04T20:03:20.003289Z"
    }
   },
   "outputs": [
    {
     "name": "stdout",
     "output_type": "stream",
     "text": [
      "Epoch 0 Train Loss:1.4753402471542358\n",
      "        Val Loss:1.5142552852630615\n",
      "Epoch 1 Train Loss:1.4731563329696655\n",
      "        Val Loss:1.512204647064209\n",
      "Epoch 2 Train Loss:1.4714642763137817\n",
      "        Val Loss:1.5104827880859375\n",
      "Epoch 3 Train Loss:1.4701162576675415\n",
      "        Val Loss:1.5089824199676514\n",
      "Epoch 4 Train Loss:1.4690436124801636\n",
      "        Val Loss:1.5076249837875366\n",
      "Epoch 5 Train Loss:1.4681596755981445\n",
      "        Val Loss:1.506364107131958\n",
      "Epoch 6 Train Loss:1.4674198627471924\n",
      "        Val Loss:1.5051592588424683\n",
      "Epoch 7 Train Loss:1.4667738676071167\n",
      "        Val Loss:1.503987431526184\n",
      "Epoch 8 Train Loss:1.4662150144577026\n",
      "        Val Loss:1.5028318166732788\n",
      "Epoch 9 Train Loss:1.4657319784164429\n",
      "        Val Loss:1.5016824007034302\n",
      "Epoch 10 Train Loss:1.465267300605774\n",
      "        Val Loss:1.5005393028259277\n",
      "Epoch 11 Train Loss:1.4648590087890625\n",
      "        Val Loss:1.4993984699249268\n",
      "Epoch 12 Train Loss:1.4644849300384521\n",
      "        Val Loss:1.4982578754425049\n",
      "Epoch 13 Train Loss:1.4641927480697632\n",
      "        Val Loss:1.4971246719360352\n",
      "Epoch 14 Train Loss:1.4639320373535156\n",
      "        Val Loss:1.4959876537322998\n",
      "Epoch 15 Train Loss:1.4637054204940796\n",
      "        Val Loss:1.4948540925979614\n",
      "Epoch 16 Train Loss:1.4634720087051392\n",
      "        Val Loss:1.4936726093292236\n",
      "Epoch 17 Train Loss:1.4633280038833618\n",
      "        Val Loss:1.4925838708877563\n",
      "Epoch 18 Train Loss:1.4632283449172974\n",
      "        Val Loss:1.4915108680725098\n",
      "Epoch 19 Train Loss:1.4631654024124146\n",
      "        Val Loss:1.490459680557251\n",
      "Epoch 20 Train Loss:1.4630934000015259\n",
      "        Val Loss:1.489438533782959\n",
      "Epoch 21 Train Loss:1.4630192518234253\n",
      "        Val Loss:1.4884464740753174\n",
      "Epoch 22 Train Loss:1.4629714488983154\n",
      "        Val Loss:1.4874848127365112\n",
      "Epoch 23 Train Loss:1.4629449844360352\n",
      "        Val Loss:1.4865572452545166\n",
      "Epoch 24 Train Loss:1.4629298448562622\n",
      "        Val Loss:1.4856623411178589\n",
      "Epoch 25 Train Loss:1.462926983833313\n",
      "        Val Loss:1.4848029613494873\n",
      "Epoch 26 Train Loss:1.462899088859558\n",
      "        Val Loss:1.4839779138565063\n",
      "Epoch 27 Train Loss:1.4628690481185913\n",
      "        Val Loss:1.4831887483596802\n",
      "Epoch 28 Train Loss:1.4628407955169678\n",
      "        Val Loss:1.4824355840682983\n",
      "Epoch 29 Train Loss:1.4628123044967651\n",
      "        Val Loss:1.4817163944244385\n",
      "Epoch 30 Train Loss:1.4627711772918701\n",
      "        Val Loss:1.4810285568237305\n",
      "Epoch 31 Train Loss:1.4627206325531006\n",
      "        Val Loss:1.4803727865219116\n",
      "Epoch 32 Train Loss:1.4626559019088745\n",
      "        Val Loss:1.4797474145889282\n",
      "Epoch 33 Train Loss:1.462584137916565\n",
      "        Val Loss:1.4791514873504639\n",
      "Epoch 34 Train Loss:1.4625234603881836\n",
      "        Val Loss:1.4785813093185425\n",
      "Epoch 35 Train Loss:1.4624615907669067\n",
      "        Val Loss:1.4780348539352417\n",
      "Epoch 36 Train Loss:1.4623967409133911\n",
      "        Val Loss:1.4775108098983765\n",
      "Epoch 37 Train Loss:1.4623382091522217\n",
      "        Val Loss:1.4770077466964722\n",
      "Epoch 38 Train Loss:1.4622907638549805\n",
      "        Val Loss:1.4765214920043945\n",
      "Epoch 39 Train Loss:1.4622384309768677\n",
      "        Val Loss:1.476054072380066\n",
      "Epoch 40 Train Loss:1.4621784687042236\n",
      "        Val Loss:1.4756033420562744\n",
      "Epoch 41 Train Loss:1.4621316194534302\n",
      "        Val Loss:1.4751685857772827\n",
      "Epoch 42 Train Loss:1.4621012210845947\n",
      "        Val Loss:1.4747474193572998\n",
      "Epoch 43 Train Loss:1.4620745182037354\n",
      "        Val Loss:1.4743415117263794\n",
      "Epoch 44 Train Loss:1.4620497226715088\n",
      "        Val Loss:1.4739454984664917\n",
      "Epoch 45 Train Loss:1.4620145559310913\n",
      "        Val Loss:1.4735604524612427\n",
      "Epoch 46 Train Loss:1.461990237236023\n",
      "        Val Loss:1.4731866121292114\n",
      "Epoch 47 Train Loss:1.4619629383087158\n",
      "        Val Loss:1.4728236198425293\n",
      "Epoch 48 Train Loss:1.461929202079773\n",
      "        Val Loss:1.4724702835083008\n",
      "Epoch 49 Train Loss:1.461897850036621\n",
      "        Val Loss:1.4721237421035767\n",
      "Epoch 50 Train Loss:1.461812138557434\n",
      "        Val Loss:1.471783995628357\n",
      "Epoch 51 Train Loss:1.4617184400558472\n",
      "        Val Loss:1.4714382886886597\n",
      "Epoch 52 Train Loss:1.4615755081176758\n",
      "        Val Loss:1.4710201025009155\n",
      "Epoch 53 Train Loss:1.4616382122039795\n",
      "        Val Loss:1.4706896543502808\n",
      "Epoch 54 Train Loss:1.4616498947143555\n",
      "        Val Loss:1.470367193222046\n",
      "Epoch 55 Train Loss:1.4616343975067139\n",
      "        Val Loss:1.470048189163208\n",
      "Epoch 56 Train Loss:1.4616113901138306\n",
      "        Val Loss:1.469734787940979\n",
      "Epoch 57 Train Loss:1.4615776538848877\n",
      "        Val Loss:1.4694288969039917\n",
      "Epoch 58 Train Loss:1.461531639099121\n",
      "        Val Loss:1.469130039215088\n",
      "Epoch 59 Train Loss:1.461490511894226\n",
      "        Val Loss:1.4688352346420288\n",
      "Epoch 60 Train Loss:1.461440920829773\n",
      "        Val Loss:1.468544840812683\n",
      "Epoch 61 Train Loss:1.4613770246505737\n",
      "        Val Loss:1.4682598114013672\n",
      "Epoch 62 Train Loss:1.4613059759140015\n",
      "        Val Loss:1.4679772853851318\n",
      "Epoch 63 Train Loss:1.461242437362671\n",
      "        Val Loss:1.4676953554153442\n",
      "Epoch 64 Train Loss:1.4611625671386719\n",
      "        Val Loss:1.4674171209335327\n",
      "Epoch 65 Train Loss:1.461079478263855\n",
      "        Val Loss:1.4671388864517212\n",
      "Epoch 66 Train Loss:1.4607784748077393\n",
      "        Val Loss:1.4667192697525024\n",
      "Epoch 67 Train Loss:1.4602785110473633\n",
      "        Val Loss:1.4663411378860474\n",
      "Epoch 68 Train Loss:1.459948182106018\n",
      "        Val Loss:1.4660428762435913\n",
      "Epoch 69 Train Loss:1.4597247838974\n",
      "        Val Loss:1.4657636880874634\n",
      "Epoch 70 Train Loss:1.459558129310608\n",
      "        Val Loss:1.4654910564422607\n",
      "Epoch 71 Train Loss:1.459410309791565\n",
      "        Val Loss:1.4652217626571655\n",
      "Epoch 72 Train Loss:1.4592739343643188\n",
      "        Val Loss:1.464958667755127\n",
      "Epoch 73 Train Loss:1.4591283798217773\n",
      "        Val Loss:1.464698076248169\n",
      "Epoch 74 Train Loss:1.4589964151382446\n",
      "        Val Loss:1.4644405841827393\n",
      "Epoch 75 Train Loss:1.4588598012924194\n",
      "        Val Loss:1.4641847610473633\n",
      "Epoch 76 Train Loss:1.4587429761886597\n",
      "        Val Loss:1.4639273881912231\n",
      "Epoch 77 Train Loss:1.4586155414581299\n",
      "        Val Loss:1.4636727571487427\n",
      "Epoch 78 Train Loss:1.4584980010986328\n",
      "        Val Loss:1.463421106338501\n",
      "Epoch 79 Train Loss:1.4583823680877686\n",
      "        Val Loss:1.4631677865982056\n",
      "Epoch 80 Train Loss:1.4582639932632446\n",
      "        Val Loss:1.4629147052764893\n",
      "Epoch 81 Train Loss:1.458134651184082\n",
      "        Val Loss:1.4626637697219849\n",
      "Epoch 82 Train Loss:1.458012580871582\n",
      "        Val Loss:1.462415099143982\n",
      "Epoch 83 Train Loss:1.4578849077224731\n",
      "        Val Loss:1.4621663093566895\n",
      "Epoch 84 Train Loss:1.4577492475509644\n",
      "        Val Loss:1.4619181156158447\n",
      "Epoch 85 Train Loss:1.4576126337051392\n",
      "        Val Loss:1.4616674184799194\n",
      "Epoch 86 Train Loss:1.457454800605774\n",
      "        Val Loss:1.4614182710647583\n",
      "Epoch 87 Train Loss:1.4572941064834595\n",
      "        Val Loss:1.461169719696045\n",
      "Epoch 88 Train Loss:1.4571255445480347\n",
      "        Val Loss:1.460922122001648\n",
      "Epoch 89 Train Loss:1.4569532871246338\n",
      "        Val Loss:1.4606752395629883\n",
      "Epoch 90 Train Loss:1.456787347793579\n",
      "        Val Loss:1.4604281187057495\n",
      "Epoch 91 Train Loss:1.4566307067871094\n",
      "        Val Loss:1.460181713104248\n",
      "Epoch 92 Train Loss:1.4564846754074097\n",
      "        Val Loss:1.4599357843399048\n",
      "Epoch 93 Train Loss:1.4563477039337158\n",
      "        Val Loss:1.459689974784851\n",
      "Epoch 94 Train Loss:1.456206202507019\n",
      "        Val Loss:1.4594446420669556\n",
      "Epoch 95 Train Loss:1.4560531377792358\n",
      "        Val Loss:1.459197759628296\n",
      "Epoch 96 Train Loss:1.4558919668197632\n",
      "        Val Loss:1.458952784538269\n",
      "Epoch 97 Train Loss:1.455706000328064\n",
      "        Val Loss:1.4587078094482422\n",
      "Epoch 98 Train Loss:1.4555326700210571\n",
      "        Val Loss:1.4584624767303467\n",
      "Epoch 99 Train Loss:1.455367088317871\n",
      "        Val Loss:1.4582165479660034\n"
     ]
    }
   ],
   "source": [
    "trainloss = np.zeros(100)\n",
    "valloss = np.zeros(100)\n",
    "for t in range(100):\n",
    "    for x,y in zip(dataloader,ydataloader):\n",
    "        \n",
    "        # Forward pass: compute predicted y by passing x to the model. Module objects\n",
    "        # override the __c|all__ operator so you can call them like functions. When\n",
    "        # doing so you pass a Tensor of input data to the Module and it produces\n",
    "        # a Tensor of output data.\n",
    "        y_pred = model(x.float())\n",
    "\n",
    "        loss = loss_fn(y_pred, torch.max(y.float(),1)[1])\n",
    "\n",
    "        # Zero the gradients before running the backward pass.\n",
    "        model.zero_grad()\n",
    "\n",
    "        # Backward pass: compute gradient of the loss with respect to all the learnable\n",
    "        # parameters of the model. Internally, the parameters of each Module are stored\n",
    "        # in Tensors with requires_grad=True, so this call will compute gradients for\n",
    "        # all learnable parameters in the model.\n",
    "        loss.backward()\n",
    "        trainloss[t] = loss\n",
    "        # Update the weights using gradient descent. Each parameter is a Tensor, so\n",
    "        # we can access its gradients like we did before.\n",
    "        with torch.no_grad():\n",
    "            for param in model.parameters():\n",
    "                param -= learning_rate * param.grad\n",
    "    y_pred = model(torch.from_numpy(X_test).to('cuda'))\n",
    "    yloss = loss_fn(y_pred, torch.max(torch.from_numpy(y_test).to('cuda'),1)[1])\n",
    "    valloss[t] = yloss\n",
    "    print('Epoch' +' ' +str(t) + ' Train Loss:' +str(trainloss[t]))\n",
    "    print('        ' + 'Val Loss:' + str(valloss[t]))\n",
    "\n",
    "    "
   ]
  },
  {
   "cell_type": "markdown",
   "metadata": {},
   "source": [
    "## Evaluation"
   ]
  },
  {
   "cell_type": "code",
   "execution_count": 26,
   "metadata": {
    "execution": {
     "iopub.execute_input": "2025-02-04T20:26:26.765902Z",
     "iopub.status.busy": "2025-02-04T20:26:26.765703Z",
     "iopub.status.idle": "2025-02-04T20:26:26.769284Z",
     "shell.execute_reply": "2025-02-04T20:26:26.768838Z",
     "shell.execute_reply.started": "2025-02-04T20:26:26.765888Z"
    }
   },
   "outputs": [],
   "source": [
    "def learningCurve(trainloss,valloss):\n",
    "    plt.figure(figsize=(10,8))\n",
    "    plt.plot(trainloss)\n",
    "    plt.plot(valloss)\n",
    "    plt.title('Model Loss over Epochs')\n",
    "    plt.ylabel('Loss')\n",
    "    plt.xlabel('Epoch')\n",
    "    plt.legend(['training sample loss','validation sample loss'])\n",
    "    #plt.savefig('Learning_curve.pdf')\n",
    "    plt.show()\n",
    "    plt.close()"
   ]
  },
  {
   "cell_type": "code",
   "execution_count": 27,
   "metadata": {
    "execution": {
     "iopub.execute_input": "2025-02-04T20:26:27.469188Z",
     "iopub.status.busy": "2025-02-04T20:26:27.468703Z",
     "iopub.status.idle": "2025-02-04T20:26:27.760765Z",
     "shell.execute_reply": "2025-02-04T20:26:27.760259Z",
     "shell.execute_reply.started": "2025-02-04T20:26:27.469172Z"
    }
   },
   "outputs": [
    {
     "data": {
      "image/png": "[encoded data removed]",
      "text/plain": [
       "<Figure size 1000x800 with 1 Axes>"
      ]
     },
     "metadata": {},
     "output_type": "display_data"
    }
   ],
   "source": [
    "learningCurve(trainloss,valloss)"
   ]
  },
  {
   "cell_type": "code",
   "execution_count": 40,
   "metadata": {
    "execution": {
     "iopub.execute_input": "2025-02-04T20:28:53.863989Z",
     "iopub.status.busy": "2025-02-04T20:28:53.863544Z",
     "iopub.status.idle": "2025-02-04T20:28:53.868908Z",
     "shell.execute_reply": "2025-02-04T20:28:53.868517Z",
     "shell.execute_reply.started": "2025-02-04T20:28:53.863970Z"
    }
   },
   "outputs": [],
   "source": [
    "def makeRoc(features_val, labels_val, labels, model, outputDir='', outputSuffix=''):\n",
    "    from sklearn.metrics import roc_curve, auc\n",
    "    labels_pred = model(torch.from_numpy(features_val).to('cuda')).cpu().detach().numpy()\n",
    "    df = pd.DataFrame()\n",
    "    fpr = {}\n",
    "    tpr = {}\n",
    "    auc1 = {}\n",
    "    plt.figure(figsize=(10,8))       \n",
    "    g = labels_pred\n",
    "    for i, label in enumerate(labels):\n",
    "        df[label] = labels_val[:,i]\n",
    "        df[label + '_pred'] = g[:,i]\n",
    "        fpr[label], tpr[label], threshold = roc_curve(df[label],df[label+'_pred'])\n",
    "        auc1[label] = auc(fpr[label], tpr[label])\n",
    "        plt.plot(fpr[label],tpr[label],label='%s tagger, AUC = %.1f%%'%(label.replace('j_',''),auc1[label]*100.))\n",
    "    plt.plot([0, 1], [0, 1], lw=1, color='black', linestyle='--')\n",
    "    #plt.semilogy()\n",
    "    plt.xlabel(\"Background Efficiency\")\n",
    "    plt.ylabel(\"Signal Efficiency\")\n",
    "    plt.xlim([-0.05, 1.05])\n",
    "    plt.ylim(0.001,1.05)\n",
    "    plt.grid(True)\n",
    "    plt.legend(loc='lower right')\n",
    "    plt.figtext(0.25, 0.90,'DNN ROC Curve',fontweight='bold', wrap=True, horizontalalignment='right', fontsize=14)\n",
    "    #plt.figtext(0.35, 0.90,'preliminary', style='italic', wrap=True, horizontalalignment='center', fontsize=14) \n",
    "    #plt.savefig('%sROC_%s.pdf'%(outputDir, outputSuffix))\n",
    "    return labels_pred"
   ]
  },
  {
   "cell_type": "code",
   "execution_count": 41,
   "metadata": {
    "execution": {
     "iopub.execute_input": "2025-02-04T20:28:54.629894Z",
     "iopub.status.busy": "2025-02-04T20:28:54.629490Z",
     "iopub.status.idle": "2025-02-04T20:28:54.840915Z",
     "shell.execute_reply": "2025-02-04T20:28:54.840506Z",
     "shell.execute_reply.started": "2025-02-04T20:28:54.629879Z"
    }
   },
   "outputs": [
    {
     "name": "stderr",
     "output_type": "stream",
     "text": [
      "/opt/conda/lib/python3.11/site-packages/torch/nn/modules/container.py:217: UserWarning: Implicit dimension choice for softmax has been deprecated. Change the call to include dim=X as an argument.\n",
      "  input = module(input)\n"
     ]
    },
    {
     "data": {
      "image/png": "[encoded data removed]",
      "text/plain": [
       "<Figure size 1000x800 with 1 Axes>"
      ]
     },
     "metadata": {},
     "output_type": "display_data"
    }
   ],
   "source": [
    "z = makeRoc(X_test, y_test, labels, model, outputSuffix='two-layer')"
   ]
  },
  {
   "cell_type": "code",
   "execution_count": null,
   "metadata": {},
   "outputs": [],
   "source": []
  }
 ],
 "metadata": {
  "kernelspec": {
   "display_name": "Python 3 (ipykernel)",
   "language": "python",
   "name": "python3"
  },
  "language_info": {
   "codemirror_mode": {
    "name": "ipython",
    "version": 3
   },
   "file_extension": ".py",
   "mimetype": "text/x-python",
   "name": "python",
   "nbconvert_exporter": "python",
   "pygments_lexer": "ipython3",
   "version": "3.11.5"
  }
 },
 "nbformat": 4,
 "nbformat_minor": 4
}
